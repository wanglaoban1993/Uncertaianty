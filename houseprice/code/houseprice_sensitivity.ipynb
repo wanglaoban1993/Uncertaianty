{
 "cells": [
  {
   "cell_type": "code",
   "execution_count": 3,
   "metadata": {},
   "outputs": [],
   "source": [
    "#基础\n",
    "import numpy as np\n",
    "import pandas as pd\n",
    "\n",
    "#绘图\n",
    "import seaborn as sns\n",
    "sns.set()\n",
    "import matplotlib.pyplot as plt\n",
    "from SALib.plotting.bar import plot as barplot\n",
    "%matplotlib inline\n",
    "\n",
    "#Model\n",
    "from sklearn import linear_model\n",
    "from sklearn.metrics import r2_score\n",
    "from sklearn.preprocessing import StandardScaler, MinMaxScaler\n",
    "\n",
    "# from SALib.sample import saltelli, sobol\n",
    "# from SALib.analyze import sobol \n",
    "from SALib.analyze import sobol  # Import the correct sobol for analysis\n",
    "from SALib.sample import sobol as sobol_sample  # Keep the sampling import"
   ]
  },
  {
   "cell_type": "code",
   "execution_count": 4,
   "metadata": {},
   "outputs": [],
   "source": [
    "##### import data #####\n",
    "housing_modified = pd.read_csv(\"../data/housing_modified.csv\")     # housing_modified is DataFrame\n",
    "x_data = housing_modified[['CRIM','ZN','INDUS','CHAS','NOX','RM','GE','DIS','RAD','TAX','PRTATIO','LSTAT']]\n",
    "y_data = housing_modified[['PRICE']]\n",
    "x_column_names = x_data.columns\n",
    "y_column_names = y_data.columns "
   ]
  },
  {
   "cell_type": "code",
   "execution_count": 5,
   "metadata": {},
   "outputs": [],
   "source": [
    "scaler_x = StandardScaler()\n",
    "scaler_x.fit(x_data)\n",
    "x_data_std = pd.DataFrame(scaler_x.transform(x_data), columns=x_column_names)\n",
    "\n",
    "scaler_y = StandardScaler()\n",
    "scaler_y.fit(y_data)\n",
    "y_data_std = pd.DataFrame(scaler_y.transform(y_data), columns=y_column_names)"
   ]
  },
  {
   "cell_type": "markdown",
   "metadata": {},
   "source": [
    "### using standarlizated data to do sensitivity anaylse ###"
   ]
  },
  {
   "cell_type": "code",
   "execution_count": 6,
   "metadata": {},
   "outputs": [
    {
     "name": "stdout",
     "output_type": "stream",
     "text": [
      "Regression parameters: [[-0.11352809  0.11909218  0.01004589  0.07843136 -0.23633917  0.27946374\n",
      "   0.01105102 -0.34131342  0.27399062 -0.23239756 -0.22068986 -0.42861343]]\n",
      "0.7343070437613075\n",
      "<class 'numpy.ndarray'> (26624, 12)\n"
     ]
    }
   ],
   "source": [
    "###### Linear\n",
    "# Prediction\n",
    "# Establish a linear regression model and train the model with the variables.\n",
    "clf = linear_model.LinearRegression()\n",
    "clf.fit(x_data_std, y_data_std)\n",
    "\n",
    "# View regression coefficients. This example is a univariate regression, so there is only one coefficient.\n",
    "print('Regression parameters:', clf.coef_)\n",
    "\n",
    "y_pred = clf.predict(x_data_std)\n",
    "score = r2_score(y_data_std, y_pred)\n",
    "print(score)\n",
    "\n",
    "# Define Sensitivity model input\n",
    "\"\"\"\n",
    "Define model input. The Ishigami function has three inputs, x1,..., x13 where xi∈[−π,π].\n",
    "In SALib, we define a dict to define the number of inputs, the names of the inputs, and the bounds for each input,\n",
    "as shown below\n",
    "\"\"\"\n",
    "names = ['CRIM', 'ZN', 'INDUS', 'CHAS', 'NOX', 'RM', 'GE', 'DIS', 'RAD', 'TAX', 'PRTATIO', 'LSTAT', 'PRICE']\n",
    "#print(boston[names[0]])\n",
    "problem = {\n",
    "    'num_vars': 12,\n",
    "    'names': names[:-1],  # names= ['CRIM','ZN','INDUS','CHAS','NOX','RM','GE','DIS','RAD','TAX','PRTATIO','LSTAT']\n",
    "    'bounds': [[x_data_std[name].min(), x_data_std[name].max()] for name in names[:-1]]  # Exclude 'PRICE' as it's the target variable\n",
    "}\t\t\n",
    "# Sample generation\n",
    "\"\"\"\n",
    "    param_values is a NumPy matrix. If we run param_values.shape,\n",
    "    we will see the matrix multiplied by features equals 8000. The Saltelli sampler generates 8000 samples.\n",
    "    The Saltelli sampler generates N*(2D+2) samples, in this example, N is 1000 (the parameter we provided),\n",
    "    D is 13 (the number of model inputs)\n",
    "\"\"\"\n",
    "# param_values = saltelli.sample(problem,1000)\n",
    "param_values = sobol_sample.sample(problem, 1024)\n",
    "print(type(param_values), param_values.shape)"
   ]
  },
  {
   "cell_type": "code",
   "execution_count": 16,
   "metadata": {},
   "outputs": [
    {
     "name": "stdout",
     "output_type": "stream",
     "text": [
      "               ST   ST_conf\n",
      "CRIM     0.081570  0.006989\n",
      "ZN       0.015424  0.001336\n",
      "INDUS    0.000094  0.000009\n",
      "CHAS     0.005649  0.000438\n",
      "NOX      0.058121  0.005136\n",
      "RM       0.254902  0.019619\n",
      "GE       0.000086  0.000008\n",
      "DIS      0.187948  0.013622\n",
      "RAD      0.030985  0.002635\n",
      "TAX      0.030883  0.002173\n",
      "PRTATIO  0.054314  0.004460\n",
      "LSTAT    0.279904  0.024641\n",
      "               S1   S1_conf\n",
      "CRIM     0.081577  0.021125\n",
      "ZN       0.015423  0.010282\n",
      "INDUS    0.000095  0.000915\n",
      "CHAS     0.005637  0.006617\n",
      "NOX      0.058082  0.021986\n",
      "RM       0.254896  0.040801\n",
      "GE       0.000087  0.000823\n",
      "DIS      0.187923  0.036327\n",
      "RAD      0.030845  0.013724\n",
      "TAX      0.031051  0.014423\n",
      "PRTATIO  0.054548  0.020565\n",
      "LSTAT    0.276673  0.044097\n",
      "                        S2   S2_conf\n",
      "(CRIM, ZN)        0.000012  0.034681\n",
      "(CRIM, INDUS)     0.000012  0.034385\n",
      "(CRIM, CHAS)      0.000007  0.034988\n",
      "(CRIM, NOX)       0.000012  0.035952\n",
      "(CRIM, RM)        0.000012  0.035006\n",
      "...                    ...       ...\n",
      "(RAD, PRTATIO)    0.000209  0.022626\n",
      "(RAD, LSTAT)      0.000277  0.023138\n",
      "(TAX, PRTATIO)   -0.000424  0.017795\n",
      "(TAX, LSTAT)     -0.000184  0.022881\n",
      "(PRTATIO, LSTAT) -0.000261  0.031160\n",
      "\n",
      "[66 rows x 2 columns]\n"
     ]
    },
    {
     "data": {
      "text/plain": [
       "\"\\n    Confidence Interval: An interval estimate of a population parameter based on a sample. The confidence interval shows the degree to which the true value of this parameter is likely to fall around the measured result.\\n                         The confidence interval gives the credibility of the measured value of the parameter. It is generally taken as 95%, 90%, or 99%. It is a pre-determined value.\\n                         For example, if a candidate's support rate is 55% in an election, and the confidence interval at the 0.95 confidence level is (50%, 60%), then there is a 95% chance that the true support rate falls between 50% and 60%.\\n    Significance Level: A pre-determined value (generally 0.05 or 0.01), usually denoted by alpha. It is the upper bound of the probability of making a Type I error when rejecting the null hypothesis in hypothesis testing. When using the p-value test,\\n                        if the p-value is smaller than the significance level, the null hypothesis can be confidently rejected. Otherwise, it is not rejected.\\n    Confidence Level: The difference between the upper and lower limits of the confidence interval.\\n\""
      ]
     },
     "execution_count": 16,
     "metadata": {},
     "output_type": "execute_result"
    }
   ],
   "source": [
    "# Convert param_values to DataFrame with feature names\n",
    "param_values_df = pd.DataFrame(param_values, columns=problem['names']) # need to heang to dataframe, ot there will be warning\n",
    "Y = clf.predict(param_values_df).flatten()\n",
    "# Run the model\n",
    "# Y = evaluate(param_values)\n",
    "#print(param_values.shape, Y.shape) (26624, 12) (26624,)\n",
    "Si_linear_model = sobol.analyze(problem, Y, print_to_console=True)  # After obtaining the model output, calculate the sensitivity indices. \n",
    "                                                                    # Here we use sobol.analyze to calculate first-order, second-order, and total-order indices.\n",
    "                                                                    # type(Si_linear_model)= <class 'SALib.util.results.ResultDict'>\n",
    "# # Total-effect indices\n",
    "# print('ST:', Si_linear_model['ST']) \n",
    "# # First-order indices\n",
    "# print('S1:', Si_linear_model['S1']) \n",
    "# # Second-order indices\n",
    "# print(\"x1-x2:\", Si_linear_model['S2'][0, 1])\n",
    "# print(\"x1-x3:\", Si_linear_model['S2'][0, 2])\n",
    "# print(\"x2-x3:\", Si_linear_model['S2'][1, 2])\n",
    "\"\"\"\n",
    "    Confidence Interval: An interval estimate of a population parameter based on a sample. The confidence interval shows the degree to which the true value of this parameter is likely to fall around the measured result.\n",
    "                         The confidence interval gives the credibility of the measured value of the parameter. It is generally taken as 95%, 90%, or 99%. It is a pre-determined value.\n",
    "                         For example, if a candidate's support rate is 55% in an election, and the confidence interval at the 0.95 confidence level is (50%, 60%), then there is a 95% chance that the true support rate falls between 50% and 60%.\n",
    "    Significance Level: A pre-determined value (generally 0.05 or 0.01), usually denoted by alpha. It is the upper bound of the probability of making a Type I error when rejecting the null hypothesis in hypothesis testing. When using the p-value test,\n",
    "                        if the p-value is smaller than the significance level, the null hypothesis can be confidently rejected. Otherwise, it is not rejected.\n",
    "    Confidence Level: The difference between the upper and lower limits of the confidence interval.\n",
    "\"\"\"\n",
    "# First-order indices: Measure the contribution of a single model input to the output variance. Second-order indices: Measure the interaction between two model inputs and their contribution to the output variance.\n",
    "# Total-order indices: Measure the contribution of a model input to the output variance, including first-order and higher-order effects."
   ]
  },
  {
   "cell_type": "code",
   "execution_count": 8,
   "metadata": {},
   "outputs": [
    {
     "name": "stdout",
     "output_type": "stream",
     "text": [
      "3\n",
      "(12, 2) <class 'pandas.core.frame.DataFrame'>\n"
     ]
    },
    {
     "data": {
      "image/png": "[encoded data removed]",
      "text/plain": [
       "<Figure size 640x480 with 1 Axes>"
      ]
     },
     "metadata": {},
     "output_type": "display_data"
    }
   ],
   "source": [
    "# Plot the results\n",
    "Si_linear_model_df = Si_linear_model.to_df()\n",
    "print(len(Si_linear_model_df)) # first for ST, second for S1, third for S2\n",
    "\n",
    "print(Si_linear_model_df[0].shape, type(Si_linear_model_df[0]))\n",
    "barplot(Si_linear_model_df[0])\n",
    "#barplot(Si_linear_model_df[1])\n",
    "#barplot(Si_linear_model_df[2])\n",
    "plt.show()"
   ]
  }
 ],
 "metadata": {
  "kernelspec": {
   "display_name": "shap",
   "language": "python",
   "name": "python3"
  },
  "language_info": {
   "codemirror_mode": {
    "name": "ipython",
    "version": 3
   },
   "file_extension": ".py",
   "mimetype": "text/x-python",
   "name": "python",
   "nbconvert_exporter": "python",
   "pygments_lexer": "ipython3",
   "version": "3.9.20"
  },
  "orig_nbformat": 4
 },
 "nbformat": 4,
 "nbformat_minor": 2
}
